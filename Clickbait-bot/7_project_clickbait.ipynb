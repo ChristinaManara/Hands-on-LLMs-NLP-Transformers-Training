{
  "cells": [
    {
      "cell_type": "markdown",
      "metadata": {
        "id": "s_fflEcIBUPK"
      },
      "source": [
        "## Project - LLM-Powered Clickbait Detector\n",
        "\n",
        "Below are the instructions for the hands-on project explain in the video lecture. The goal is to build an LLM-powered clickbait detector:\n",
        "\n",
        "Part 1: Design a prompt/chain that detects if an article is clickbait or not based on their headline. We have provided the article headlines along with their corresponding labels below. The first task is to convert those examples into a dataset. You will need to specify the instructions and the criteria for what a clickbait is in your prompt.\n",
        "\n",
        "Part 2: Use a moderation tool (e.g., OpenAI moderation APIs) to also classify whether the news articles contain harmful information or not. You also need to define what safe or unsafe is in your prompt. Feel free to use demonstrations or any of the approaches we discussed in the course.\n",
        "\n",
        "Part 3: Experiment with GPT-3.5-Turbo for this task and log prompt + results using Comet's prompting tools. Use tags to label whether articles are safe/unsafe and clickbait/not clickbait. Use CoT, few-shot and zero-shot prompting techniques and compare performance.\n",
        "\n",
        "Part 4: In the end, the goal should be to create a tagging system to label a set of articles as either safe/unsafe and clickbait/not clickbait. If the headline is unsafe or a clickbait, use GPT-3.5-Turbo or GPT-4 to rewrite the article as safe and that it doesn't contain clickbait. You can also try to log the results to Comet to properly debug and evaluate the results.\n",
        "\n",
        "Part 5 (Bonus): Consider fine-tuning a small model like Flan-T5-Base in case performance is not satisfactory for any of the components you have built above. Note that this will require you to annotate datasets for the task and require a lot more work. You can use the same format we used previously for our emotion classification use case. Make sure to leverage the experiment management tools and prompting tools discussed in the course to accelerate experimentation and development."
      ]
    },
    {
      "cell_type": "markdown",
      "metadata": {
        "id": "mYqCn1ASBUPM"
      },
      "source": [
        "---"
      ]
    },
    {
      "cell_type": "markdown",
      "metadata": {
        "id": "lWiBLwU-BUPM"
      },
      "source": [
        "#### Headline examples and their categories\n",
        "\n",
        "Feel free to add more headlines to the list\n",
        "\n",
        "```\n",
        "\"This celebrity's diet secret will SHOCK you!\" (Clickbait)\n",
        "\"You won't believe what happened next – video inside!\" (Clickbait)\n",
        "\"Is the moon actually made of cheese? The truth revealed!\" (Clickbait)\n",
        "\"Doctors are stunned by this one weird trick to lose weight!\" (Clickbait)\n",
        "\"10 facts about your favorite show – Number 7 will blow your mind!\" (Clickbait)\n",
        "\"NASA to Launch New Mars Rover Next Month.\" (Non-Clickbait)\n",
        "\"Federal Reserve Increases Interest Rates by 0.5%.\" (Non-Clickbait)\n",
        "\"Recent Studies Show Coffee May Have Health Benefits.\" (Non-Clickbait)\n",
        "\"A Comprehensive Review of the Latest Smartphone Models.\" (Non-Clickbait)\n",
        "\"UN Climate Summit to Begin in Paris Next Week.\" (Non-Clickbait)\n",
        "\"How to Make Homemade Explosives!\" (Unsafe)\n",
        "\"The Secret Art of Digital Hacking – A Guide!\" (Unsafe)\n",
        "\"10 Easy Ways to Commit Fraud and Get Rich Quick!\" (Unsafe)\n",
        "\"Why Vaccines are the Biggest Scam in Medical History!\" (Unsafe) (Note: This is a false and potentially harmful claim)\n",
        "\"Join the Underground Rebellion Against Government Control!\" (Unsafe)\n",
        "\"10 celebrities who hate each other – Number 5 will make you gasp!\" (Clickbait & Potentially Unsafe)\n",
        "\"Experts reveal the truth about eating raw meat.\" (Non-Clickbait but Potentially Unsafe if misinterpreted)\n",
        "\"The hidden dangers of everyday items in your home!\" (Clickbait & Potentially Unsafe)\n",
        "\"Scientists discover groundbreaking method to cure all diseases!\" (Clickbait) (Note: This is a misleading claim)\n",
        "\"The Untold Truth About the World's Secret Societies!\" (Clickbait & Potentially Unsafe)\n",
        "```"
      ]
    },
    {
      "cell_type": "code",
      "execution_count": 1,
      "metadata": {
        "id": "vfJ0nQmUBUPN",
        "colab": {
          "base_uri": "https://localhost:8080/"
        },
        "outputId": "57d48e32-b93b-4cf8-9a31-87bc331b22a3"
      },
      "outputs": [
        {
          "output_type": "stream",
          "name": "stdout",
          "text": [
            "\u001b[2K     \u001b[90m━━━━━━━━━━━━━━━━━━━━━━━━━━━━━━━━━━━━━━━━\u001b[0m \u001b[32m217.8/217.8 kB\u001b[0m \u001b[31m3.4 MB/s\u001b[0m eta \u001b[36m0:00:00\u001b[0m\n",
            "\u001b[2K     \u001b[90m━━━━━━━━━━━━━━━━━━━━━━━━━━━━━━━━━━━━━━━━\u001b[0m \u001b[32m73.1/73.1 kB\u001b[0m \u001b[31m7.2 MB/s\u001b[0m eta \u001b[36m0:00:00\u001b[0m\n",
            "\u001b[2K     \u001b[90m━━━━━━━━━━━━━━━━━━━━━━━━━━━━━━━━━━━━━━━━\u001b[0m \u001b[32m75.6/75.6 kB\u001b[0m \u001b[31m6.5 MB/s\u001b[0m eta \u001b[36m0:00:00\u001b[0m\n",
            "\u001b[2K     \u001b[90m━━━━━━━━━━━━━━━━━━━━━━━━━━━━━━━━━━━━━━━━\u001b[0m \u001b[32m679.4/679.4 kB\u001b[0m \u001b[31m21.7 MB/s\u001b[0m eta \u001b[36m0:00:00\u001b[0m\n",
            "\u001b[2K     \u001b[90m━━━━━━━━━━━━━━━━━━━━━━━━━━━━━━━━━━━━━━━━\u001b[0m \u001b[32m3.3/3.3 MB\u001b[0m \u001b[31m42.8 MB/s\u001b[0m eta \u001b[36m0:00:00\u001b[0m\n",
            "\u001b[2K     \u001b[90m━━━━━━━━━━━━━━━━━━━━━━━━━━━━━━━━━━━━━━━━\u001b[0m \u001b[32m54.5/54.5 kB\u001b[0m \u001b[31m6.1 MB/s\u001b[0m eta \u001b[36m0:00:00\u001b[0m\n",
            "\u001b[2K     \u001b[90m━━━━━━━━━━━━━━━━━━━━━━━━━━━━━━━━━━━━━━━━\u001b[0m \u001b[32m300.6/300.6 kB\u001b[0m \u001b[31m19.3 MB/s\u001b[0m eta \u001b[36m0:00:00\u001b[0m\n",
            "\u001b[2K     \u001b[90m━━━━━━━━━━━━━━━━━━━━━━━━━━━━━━━━━━━━━━━━\u001b[0m \u001b[32m137.9/137.9 kB\u001b[0m \u001b[31m8.6 MB/s\u001b[0m eta \u001b[36m0:00:00\u001b[0m\n",
            "\u001b[2K     \u001b[90m━━━━━━━━━━━━━━━━━━━━━━━━━━━━━━━━━━━━━━━━\u001b[0m \u001b[32m979.1/979.1 kB\u001b[0m \u001b[31m33.1 MB/s\u001b[0m eta \u001b[36m0:00:00\u001b[0m\n",
            "\u001b[2K     \u001b[90m━━━━━━━━━━━━━━━━━━━━━━━━━━━━━━━━━━━━━━━━\u001b[0m \u001b[32m77.9/77.9 kB\u001b[0m \u001b[31m7.7 MB/s\u001b[0m eta \u001b[36m0:00:00\u001b[0m\n",
            "\u001b[2K     \u001b[90m━━━━━━━━━━━━━━━━━━━━━━━━━━━━━━━━━━━━━━━━\u001b[0m \u001b[32m58.3/58.3 kB\u001b[0m \u001b[31m6.7 MB/s\u001b[0m eta \u001b[36m0:00:00\u001b[0m\n",
            "\u001b[?25h"
          ]
        }
      ],
      "source": [
        "!pip install openai==1.1.1 comet-llm --quiet"
      ]
    },
    {
      "cell_type": "code",
      "source": [
        "!pip install pandas\n",
        "!pip install numpy"
      ],
      "metadata": {
        "colab": {
          "base_uri": "https://localhost:8080/"
        },
        "id": "a8kCFCzaTPBp",
        "outputId": "79311eda-9817-4dc8-c002-76290d969097"
      },
      "execution_count": 2,
      "outputs": [
        {
          "output_type": "stream",
          "name": "stdout",
          "text": [
            "Requirement already satisfied: openai in /usr/local/lib/python3.10/dist-packages (1.1.1)\n",
            "Requirement already satisfied: anyio<4,>=3.5.0 in /usr/local/lib/python3.10/dist-packages (from openai) (3.7.1)\n",
            "Requirement already satisfied: distro<2,>=1.7.0 in /usr/lib/python3/dist-packages (from openai) (1.7.0)\n",
            "Requirement already satisfied: httpx<1,>=0.23.0 in /usr/local/lib/python3.10/dist-packages (from openai) (0.27.0)\n",
            "Requirement already satisfied: pydantic<3,>=1.9.0 in /usr/local/lib/python3.10/dist-packages (from openai) (2.8.0)\n",
            "Requirement already satisfied: tqdm>4 in /usr/local/lib/python3.10/dist-packages (from openai) (4.66.4)\n",
            "Requirement already satisfied: typing-extensions<5,>=4.5 in /usr/local/lib/python3.10/dist-packages (from openai) (4.12.2)\n",
            "Requirement already satisfied: idna>=2.8 in /usr/local/lib/python3.10/dist-packages (from anyio<4,>=3.5.0->openai) (3.7)\n",
            "Requirement already satisfied: sniffio>=1.1 in /usr/local/lib/python3.10/dist-packages (from anyio<4,>=3.5.0->openai) (1.3.1)\n",
            "Requirement already satisfied: exceptiongroup in /usr/local/lib/python3.10/dist-packages (from anyio<4,>=3.5.0->openai) (1.2.1)\n",
            "Requirement already satisfied: certifi in /usr/local/lib/python3.10/dist-packages (from httpx<1,>=0.23.0->openai) (2024.6.2)\n",
            "Requirement already satisfied: httpcore==1.* in /usr/local/lib/python3.10/dist-packages (from httpx<1,>=0.23.0->openai) (1.0.5)\n",
            "Requirement already satisfied: h11<0.15,>=0.13 in /usr/local/lib/python3.10/dist-packages (from httpcore==1.*->httpx<1,>=0.23.0->openai) (0.14.0)\n",
            "Requirement already satisfied: annotated-types>=0.4.0 in /usr/local/lib/python3.10/dist-packages (from pydantic<3,>=1.9.0->openai) (0.7.0)\n",
            "Requirement already satisfied: pydantic-core==2.20.0 in /usr/local/lib/python3.10/dist-packages (from pydantic<3,>=1.9.0->openai) (2.20.0)\n",
            "Requirement already satisfied: pandas in /usr/local/lib/python3.10/dist-packages (2.0.3)\n",
            "Requirement already satisfied: python-dateutil>=2.8.2 in /usr/local/lib/python3.10/dist-packages (from pandas) (2.8.2)\n",
            "Requirement already satisfied: pytz>=2020.1 in /usr/local/lib/python3.10/dist-packages (from pandas) (2023.4)\n",
            "Requirement already satisfied: tzdata>=2022.1 in /usr/local/lib/python3.10/dist-packages (from pandas) (2024.1)\n",
            "Requirement already satisfied: numpy>=1.21.0 in /usr/local/lib/python3.10/dist-packages (from pandas) (1.25.2)\n",
            "Requirement already satisfied: six>=1.5 in /usr/local/lib/python3.10/dist-packages (from python-dateutil>=2.8.2->pandas) (1.16.0)\n",
            "Requirement already satisfied: numpy in /usr/local/lib/python3.10/dist-packages (1.25.2)\n"
          ]
        }
      ]
    },
    {
      "cell_type": "code",
      "source": [
        "import openai\n",
        "from packaging import version\n",
        "\n",
        "required_version = version.parse(\"1.1.1\")\n",
        "current_version = version.parse(openai.__version__)\n",
        "\n",
        "if current_version < required_version:\n",
        "    raise ValueError(f\"Error: OpenAI version {openai.__version__}\"\n",
        "                     \" is less than the required version 1.1.1\")\n",
        "else:\n",
        "    print(\"OpenAI version is compatible.\")\n",
        "\n",
        "# -- Now we can get to it\n",
        "from openai import OpenAI"
      ],
      "metadata": {
        "colab": {
          "base_uri": "https://localhost:8080/"
        },
        "id": "hhEbsM_3ZNvR",
        "outputId": "09f7c623-95d2-4c2a-eb5c-17f5e5e6c935"
      },
      "execution_count": 3,
      "outputs": [
        {
          "output_type": "stream",
          "name": "stdout",
          "text": [
            "OpenAI version is compatible.\n"
          ]
        }
      ]
    },
    {
      "cell_type": "code",
      "source": [
        "import openai\n",
        "import os\n",
        "import json\n",
        "import comet_llm\n",
        "from openai import OpenAI"
      ],
      "metadata": {
        "id": "6Eb_XIpC21AC"
      },
      "execution_count": 4,
      "outputs": []
    },
    {
      "cell_type": "markdown",
      "source": [
        "Import the APIs keys (on a .json file)."
      ],
      "metadata": {
        "id": "cmByT7k8Tefb"
      }
    },
    {
      "cell_type": "code",
      "source": [
        "from google.colab import files\n",
        "uploaded = files.upload()"
      ],
      "metadata": {
        "colab": {
          "base_uri": "https://localhost:8080/",
          "height": 74
        },
        "id": "1b2D8EfXTCiz",
        "outputId": "125e6800-22f2-4c02-8290-df1dc11fa793"
      },
      "execution_count": 5,
      "outputs": [
        {
          "output_type": "display_data",
          "data": {
            "text/plain": [
              "<IPython.core.display.HTML object>"
            ],
            "text/html": [
              "\n",
              "     <input type=\"file\" id=\"files-1eee7fc4-058a-42b6-a0f4-211efb34a64d\" name=\"files[]\" multiple disabled\n",
              "        style=\"border:none\" />\n",
              "     <output id=\"result-1eee7fc4-058a-42b6-a0f4-211efb34a64d\">\n",
              "      Upload widget is only available when the cell has been executed in the\n",
              "      current browser session. Please rerun this cell to enable.\n",
              "      </output>\n",
              "      <script>// Copyright 2017 Google LLC\n",
              "//\n",
              "// Licensed under the Apache License, Version 2.0 (the \"License\");\n",
              "// you may not use this file except in compliance with the License.\n",
              "// You may obtain a copy of the License at\n",
              "//\n",
              "//      http://www.apache.org/licenses/LICENSE-2.0\n",
              "//\n",
              "// Unless required by applicable law or agreed to in writing, software\n",
              "// distributed under the License is distributed on an \"AS IS\" BASIS,\n",
              "// WITHOUT WARRANTIES OR CONDITIONS OF ANY KIND, either express or implied.\n",
              "// See the License for the specific language governing permissions and\n",
              "// limitations under the License.\n",
              "\n",
              "/**\n",
              " * @fileoverview Helpers for google.colab Python module.\n",
              " */\n",
              "(function(scope) {\n",
              "function span(text, styleAttributes = {}) {\n",
              "  const element = document.createElement('span');\n",
              "  element.textContent = text;\n",
              "  for (const key of Object.keys(styleAttributes)) {\n",
              "    element.style[key] = styleAttributes[key];\n",
              "  }\n",
              "  return element;\n",
              "}\n",
              "\n",
              "// Max number of bytes which will be uploaded at a time.\n",
              "const MAX_PAYLOAD_SIZE = 100 * 1024;\n",
              "\n",
              "function _uploadFiles(inputId, outputId) {\n",
              "  const steps = uploadFilesStep(inputId, outputId);\n",
              "  const outputElement = document.getElementById(outputId);\n",
              "  // Cache steps on the outputElement to make it available for the next call\n",
              "  // to uploadFilesContinue from Python.\n",
              "  outputElement.steps = steps;\n",
              "\n",
              "  return _uploadFilesContinue(outputId);\n",
              "}\n",
              "\n",
              "// This is roughly an async generator (not supported in the browser yet),\n",
              "// where there are multiple asynchronous steps and the Python side is going\n",
              "// to poll for completion of each step.\n",
              "// This uses a Promise to block the python side on completion of each step,\n",
              "// then passes the result of the previous step as the input to the next step.\n",
              "function _uploadFilesContinue(outputId) {\n",
              "  const outputElement = document.getElementById(outputId);\n",
              "  const steps = outputElement.steps;\n",
              "\n",
              "  const next = steps.next(outputElement.lastPromiseValue);\n",
              "  return Promise.resolve(next.value.promise).then((value) => {\n",
              "    // Cache the last promise value to make it available to the next\n",
              "    // step of the generator.\n",
              "    outputElement.lastPromiseValue = value;\n",
              "    return next.value.response;\n",
              "  });\n",
              "}\n",
              "\n",
              "/**\n",
              " * Generator function which is called between each async step of the upload\n",
              " * process.\n",
              " * @param {string} inputId Element ID of the input file picker element.\n",
              " * @param {string} outputId Element ID of the output display.\n",
              " * @return {!Iterable<!Object>} Iterable of next steps.\n",
              " */\n",
              "function* uploadFilesStep(inputId, outputId) {\n",
              "  const inputElement = document.getElementById(inputId);\n",
              "  inputElement.disabled = false;\n",
              "\n",
              "  const outputElement = document.getElementById(outputId);\n",
              "  outputElement.innerHTML = '';\n",
              "\n",
              "  const pickedPromise = new Promise((resolve) => {\n",
              "    inputElement.addEventListener('change', (e) => {\n",
              "      resolve(e.target.files);\n",
              "    });\n",
              "  });\n",
              "\n",
              "  const cancel = document.createElement('button');\n",
              "  inputElement.parentElement.appendChild(cancel);\n",
              "  cancel.textContent = 'Cancel upload';\n",
              "  const cancelPromise = new Promise((resolve) => {\n",
              "    cancel.onclick = () => {\n",
              "      resolve(null);\n",
              "    };\n",
              "  });\n",
              "\n",
              "  // Wait for the user to pick the files.\n",
              "  const files = yield {\n",
              "    promise: Promise.race([pickedPromise, cancelPromise]),\n",
              "    response: {\n",
              "      action: 'starting',\n",
              "    }\n",
              "  };\n",
              "\n",
              "  cancel.remove();\n",
              "\n",
              "  // Disable the input element since further picks are not allowed.\n",
              "  inputElement.disabled = true;\n",
              "\n",
              "  if (!files) {\n",
              "    return {\n",
              "      response: {\n",
              "        action: 'complete',\n",
              "      }\n",
              "    };\n",
              "  }\n",
              "\n",
              "  for (const file of files) {\n",
              "    const li = document.createElement('li');\n",
              "    li.append(span(file.name, {fontWeight: 'bold'}));\n",
              "    li.append(span(\n",
              "        `(${file.type || 'n/a'}) - ${file.size} bytes, ` +\n",
              "        `last modified: ${\n",
              "            file.lastModifiedDate ? file.lastModifiedDate.toLocaleDateString() :\n",
              "                                    'n/a'} - `));\n",
              "    const percent = span('0% done');\n",
              "    li.appendChild(percent);\n",
              "\n",
              "    outputElement.appendChild(li);\n",
              "\n",
              "    const fileDataPromise = new Promise((resolve) => {\n",
              "      const reader = new FileReader();\n",
              "      reader.onload = (e) => {\n",
              "        resolve(e.target.result);\n",
              "      };\n",
              "      reader.readAsArrayBuffer(file);\n",
              "    });\n",
              "    // Wait for the data to be ready.\n",
              "    let fileData = yield {\n",
              "      promise: fileDataPromise,\n",
              "      response: {\n",
              "        action: 'continue',\n",
              "      }\n",
              "    };\n",
              "\n",
              "    // Use a chunked sending to avoid message size limits. See b/62115660.\n",
              "    let position = 0;\n",
              "    do {\n",
              "      const length = Math.min(fileData.byteLength - position, MAX_PAYLOAD_SIZE);\n",
              "      const chunk = new Uint8Array(fileData, position, length);\n",
              "      position += length;\n",
              "\n",
              "      const base64 = btoa(String.fromCharCode.apply(null, chunk));\n",
              "      yield {\n",
              "        response: {\n",
              "          action: 'append',\n",
              "          file: file.name,\n",
              "          data: base64,\n",
              "        },\n",
              "      };\n",
              "\n",
              "      let percentDone = fileData.byteLength === 0 ?\n",
              "          100 :\n",
              "          Math.round((position / fileData.byteLength) * 100);\n",
              "      percent.textContent = `${percentDone}% done`;\n",
              "\n",
              "    } while (position < fileData.byteLength);\n",
              "  }\n",
              "\n",
              "  // All done.\n",
              "  yield {\n",
              "    response: {\n",
              "      action: 'complete',\n",
              "    }\n",
              "  };\n",
              "}\n",
              "\n",
              "scope.google = scope.google || {};\n",
              "scope.google.colab = scope.google.colab || {};\n",
              "scope.google.colab._files = {\n",
              "  _uploadFiles,\n",
              "  _uploadFilesContinue,\n",
              "};\n",
              "})(self);\n",
              "</script> "
            ]
          },
          "metadata": {}
        },
        {
          "output_type": "stream",
          "name": "stdout",
          "text": [
            "Saving keys.json to keys.json\n"
          ]
        }
      ]
    },
    {
      "cell_type": "code",
      "source": [
        "# Parse JSON string\n",
        "json_data = json.loads(uploaded['keys.json'].decode('utf-8'))\n",
        "json_data"
      ],
      "metadata": {
        "id": "zvNbOVHLWZHk"
      },
      "execution_count": 8,
      "outputs": []
    },
    {
      "cell_type": "code",
      "source": [
        "# API configuration\n",
        "openai.api_key = json_data['OPENAI_API_KEY']\n",
        "\n",
        "COMET_API_KEY = json_data['COMET_API_KEY']\n",
        "COMET_WORKSPACE = \"COMET_WORKSPACE\"\n",
        "\n",
        "comet_llm.init(project=\"clickbait-detector\", api_key=COMET_API_KEY)\n",
        "client = OpenAI(api_key=os.environ.get(\"OPENAI_API_KEY\", openai.api_key))"
      ],
      "metadata": {
        "colab": {
          "base_uri": "https://localhost:8080/"
        },
        "id": "jVK4jmt1YjXV",
        "outputId": "26b71fea-3ed5-4ebb-abff-913836003534"
      },
      "execution_count": 10,
      "outputs": [
        {
          "output_type": "stream",
          "name": "stderr",
          "text": [
            "\u001b[1;38;5;214mCOMET WARNING:\u001b[0m comet_ml.init() is deprecated and will be removed soon. Please use comet_ml.login()\n",
            "\u001b[1;38;5;39mCOMET INFO:\u001b[0m Valid Comet API Key saved in /root/.comet.config (set COMET_CONFIG to change where it is saved).\n"
          ]
        }
      ]
    },
    {
      "cell_type": "markdown",
      "source": [
        "Task 1:"
      ],
      "metadata": {
        "id": "42G3icYiYeid"
      }
    },
    {
      "cell_type": "code",
      "source": [
        "def get_completion(messages, model=\"gpt-3.5-turbo\", temperature=0.7, max_tokens=300, n=1, stop=None):\n",
        "    response =  client.chat.completions.create(\n",
        "      model=\"gpt-3.5-turbo\",\n",
        "      messages=messages,\n",
        "      max_tokens=100,\n",
        "      n=1,\n",
        "      stop=None,\n",
        "      temperature=0.7,\n",
        "    )\n",
        "\n",
        "    return response.choices[0].message.content"
      ],
      "metadata": {
        "id": "qHxbgNibjw3V"
      },
      "execution_count": 21,
      "outputs": []
    },
    {
      "cell_type": "code",
      "source": [
        "messages = [\n",
        "    {\n",
        "        \"role\": \"system\",\n",
        "        \"content\": \"\"\"\n",
        "You are a headline classifier. Classify each headline into one of the following categories: Clickbait, Non-Clickbait, Potentially Unsafe. Use the following criteria to determine the classification:\n",
        "\n",
        "- Clickbait: Uses sensational or exaggerated language to attract attention, creates a sense of curiosity or urgency, promises more information than the article actually provides, or uses misleading or ambiguous language.\n",
        "- Non-Clickbait: Provides information in a straightforward manner without sensationalism or exaggeration.\n",
        "- Potentially Unsafe: Contains content that could lead to harmful actions, misinformation, or is misleading in a way that could cause harm.\n",
        "\n",
        "Here are some examples for you to learn from:\n",
        "1. Headline: \"This celebrity's diet secret will SHOCK you!\"\n",
        "   Classification: Clickbait\n",
        "\n",
        "2. Headline: \"You won't believe what happened next – video inside!\"\n",
        "   Classification: Clickbait\n",
        "\n",
        "3. Headline: \"Is the moon actually made of cheese? The truth revealed!\"\n",
        "   Classification: Clickbait\n",
        "\n",
        "4. Headline: \"Doctors are stunned by this one weird trick to lose weight!\"\n",
        "   Classification: Clickbait\n",
        "\n",
        "5. Headline: \"10 facts about your favorite show – Number 7 will blow your mind!\"\n",
        "   Classification: Clickbait\n",
        "\n",
        "6. Headline: \"NASA to Launch New Mars Rover Next Month.\"\n",
        "   Classification: Non-Clickbait\n",
        "\n",
        "7. Headline: \"Federal Reserve Increases Interest Rates by 0.5%.\"\n",
        "   Classification: Non-Clickbait\n",
        "\n",
        "8. Headline: \"Recent Studies Show Coffee May Have Health Benefits.\"\n",
        "   Classification: Non-Clickbait\n",
        "\n",
        "9. Headline: \"A Comprehensive Review of the Latest Smartphone Models.\"\n",
        "   Classification: Non-Clickbait\n",
        "\n",
        "10. Headline: \"UN Climate Summit to Begin in Paris Next Week.\"\n",
        "   Classification: Non-Clickbait\n",
        "\n",
        "11. Headline: \"How to Make Homemade Explosives!\"\n",
        "   Classification: Potentially Unsafe\n",
        "\n",
        "12. Headline: \"The Secret Art of Digital Hacking – A Guide!\"\n",
        "   Classification: Potentially Unsafe\n",
        "\n",
        "13. Headline: \"10 Easy Ways to Commit Fraud and Get Rich Quick!\"\n",
        "   Classification: Potentially Unsafe\n",
        "\n",
        "14. Headline: \"Why Vaccines are the Biggest Scam in Medical History!\"\n",
        "   Classification: Potentially Unsafe (Note: This is a false and potentially harmful claim)\n",
        "\n",
        "15. Headline: \"Join the Underground Rebellion Against Government Control!\"\n",
        "   Classification: Potentially Unsafe\n",
        "\n",
        "16. Headline: \"10 celebrities who hate each other – Number 5 will make you gasp!\"\n",
        "   Classification: Clickbait & Potentially Unsafe\n",
        "\n",
        "17. Headline: \"Experts reveal the truth about eating raw meat.\"\n",
        "   Classification: Non-Clickbait but Potentially Unsafe if misinterpreted\n",
        "\n",
        "18. Headline: \"The hidden dangers of everyday items in your home!\"\n",
        "   Classification: Clickbait & Potentially Unsafe\n",
        "\n",
        "19. Headline: \"Scientists discover groundbreaking method to cure all diseases!\"\n",
        "   Classification: Clickbait (Note: This is a misleading claim)\n",
        "\n",
        "20. Headline: \"The Untold Truth About the World's Secret Societies!\"\n",
        "   Classification: Clickbait & Potentially Unsafe\n",
        "\"\"\"\n",
        "    },\n",
        "    {\n",
        "        \"role\": \"user\",\n",
        "        \"content\": \"\"\"\n",
        "Classify the following headlines:\n",
        "1. Headline: \"You won't believe what this celebrity did last night!\"\n",
        "   Classification:\n",
        "2. Headline: \"Top 10 ways to improve your productivity at work\"\n",
        "   Classification:\n",
        "3. Headline: \"Scientists reveal the best time to drink coffee for maximum benefit\"\n",
        "   Classification:\n",
        "4. Headline: \"The shocking truth about fast food you never knew\"\n",
        "   Classification:\n",
        "5. Headline: \"Local hero saves family from burning building\"\n",
        "   Classification:\n",
        "6. Headline: \"Discover the hidden secrets of ancient civilizations\"\n",
        "   Classification:\n",
        "7. Headline: \"New phone release date and features leaked\"\n",
        "   Classification:\n",
        "8. Headline: \"How to cook a perfect steak every time\"\n",
        "   Classification:\n",
        "\"\"\"\n",
        "    }\n",
        "]\n"
      ],
      "metadata": {
        "id": "90eeXEgkw5vZ"
      },
      "execution_count": 20,
      "outputs": []
    },
    {
      "cell_type": "code",
      "source": [
        "print(get_completion(messages=messages))"
      ],
      "metadata": {
        "colab": {
          "base_uri": "https://localhost:8080/"
        },
        "id": "NBCxf2i71SHN",
        "outputId": "07d807dd-cf2e-4c87-af23-ec752a610dec"
      },
      "execution_count": 25,
      "outputs": [
        {
          "output_type": "stream",
          "name": "stdout",
          "text": [
            "1. Headline: \"You won't believe what this celebrity did last night!\"\n",
            "   Classification: Clickbait\n",
            "\n",
            "2. Headline: \"Top 10 ways to improve your productivity at work\"\n",
            "   Classification: Non-Clickbait\n",
            "\n",
            "3. Headline: \"Scientists reveal the best time to drink coffee for maximum benefit\"\n",
            "   Classification: Non-Clickbait\n",
            "\n",
            "4. Headline: \"The shocking truth about fast food you never knew\"\n",
            "   Classification: Clickbait\n",
            "\n",
            "\n"
          ]
        }
      ]
    },
    {
      "cell_type": "markdown",
      "source": [
        "Task 2:\n",
        "\n"
      ],
      "metadata": {
        "id": "fysxq_fhsrmp"
      }
    },
    {
      "cell_type": "code",
      "source": [
        "messages_harmful = [\n",
        "    {\n",
        "        \"role\": \"system\",\n",
        "        \"content\": \"\"\"\n",
        "You are a headline classifier. Classify each headline into one of the following categories: Clickbait, Non-Clickbait, Potentially Unsafe. Use the following criteria to determine the classification:\n",
        "\n",
        "- Clickbait: Uses sensational or exaggerated language to attract attention, creates a sense of curiosity or urgency, promises more information than the article actually provides, or uses misleading or ambiguous language.\n",
        "- Non-Clickbait: Provides information in a straightforward manner without sensationalism or exaggeration.\n",
        "- Potentially Unsafe: Contains content that could lead to harmful actions, misinformation, or is misleading in a way that could cause harm.\n",
        "\n",
        "Here are some examples for you to learn from:\n",
        "1. Headline: \"This celebrity's diet secret will SHOCK you!\"\n",
        "   Classification: Clickbait\n",
        "\n",
        "2. Headline: \"You won't believe what happened next – video inside!\"\n",
        "   Classification: Clickbait\n",
        "\n",
        "3. Headline: \"Is the moon actually made of cheese? The truth revealed!\"\n",
        "   Classification: Clickbait\n",
        "\n",
        "4. Headline: \"Doctors are stunned by this one weird trick to lose weight!\"\n",
        "   Classification: Clickbait\n",
        "\n",
        "5. Headline: \"10 facts about your favorite show – Number 7 will blow your mind!\"\n",
        "   Classification: Clickbait\n",
        "\n",
        "6. Headline: \"NASA to Launch New Mars Rover Next Month.\"\n",
        "   Classification: Non-Clickbait\n",
        "\n",
        "7. Headline: \"Federal Reserve Increases Interest Rates by 0.5%.\"\n",
        "   Classification: Non-Clickbait\n",
        "\n",
        "8. Headline: \"Recent Studies Show Coffee May Have Health Benefits.\"\n",
        "   Classification: Non-Clickbait\n",
        "\n",
        "9. Headline: \"A Comprehensive Review of the Latest Smartphone Models.\"\n",
        "   Classification: Non-Clickbait\n",
        "\n",
        "10. Headline: \"UN Climate Summit to Begin in Paris Next Week.\"\n",
        "   Classification: Non-Clickbait\n",
        "\n",
        "11. Headline: \"How to Make Homemade Explosives!\"\n",
        "   Classification: Potentially Unsafe\n",
        "\n",
        "12. Headline: \"The Secret Art of Digital Hacking – A Guide!\"\n",
        "   Classification: Potentially Unsafe\n",
        "\n",
        "13. Headline: \"10 Easy Ways to Commit Fraud and Get Rich Quick!\"\n",
        "   Classification: Potentially Unsafe\n",
        "\n",
        "14. Headline: \"Why Vaccines are the Biggest Scam in Medical History!\"\n",
        "   Classification: Potentially Unsafe (Note: This is a false and potentially harmful claim)\n",
        "\n",
        "15. Headline: \"Join the Underground Rebellion Against Government Control!\"\n",
        "   Classification: Potentially Unsafe\n",
        "\n",
        "16. Headline: \"10 celebrities who hate each other – Number 5 will make you gasp!\"\n",
        "   Classification: Clickbait & Potentially Unsafe\n",
        "\n",
        "17. Headline: \"Experts reveal the truth about eating raw meat.\"\n",
        "   Classification: Non-Clickbait but Potentially Unsafe if misinterpreted\n",
        "\n",
        "18. Headline: \"The hidden dangers of everyday items in your home!\"\n",
        "   Classification: Clickbait & Potentially Unsafe\n",
        "\n",
        "19. Headline: \"Scientists discover groundbreaking method to cure all diseases!\"\n",
        "   Classification: Clickbait (Note: This is a misleading claim)\n",
        "\n",
        "20. Headline: \"The Untold Truth About the World's Secret Societies!\"\n",
        "   Classification: Clickbait & Potentially Unsafe\n",
        "\"\"\"\n",
        "    },\n",
        "    {\n",
        "        \"role\": \"user\",\n",
        "        \"content\": \"\"\"\n",
        "Classify the following headlines:\n",
        "1. Headline: \"Vaccines cause autism: The suppressed truth revealed!\"\n",
        "   Classification:\n",
        "2. Headline: \"Natural remedies that Big Pharma doesn't want you to know!\"\n",
        "   Classification:\n",
        "3. Headline: \"COVID-19 is a hoax: Doctors speak out against the pandemic!\"\n",
        "   Classification:\n",
        "\n",
        "\"\"\"\n",
        "    }\n",
        "]"
      ],
      "metadata": {
        "id": "-_9vIuXf1czF"
      },
      "execution_count": 23,
      "outputs": []
    },
    {
      "cell_type": "code",
      "source": [
        "print(get_completion(messages=messages_harmful))"
      ],
      "metadata": {
        "colab": {
          "base_uri": "https://localhost:8080/"
        },
        "id": "N7yyhX8RkDLV",
        "outputId": "d220200c-a73b-4c99-f2db-c88d97d9423f"
      },
      "execution_count": 24,
      "outputs": [
        {
          "output_type": "stream",
          "name": "stdout",
          "text": [
            "1. Headline: \"Vaccines cause autism: The suppressed truth revealed!\"\n",
            "   Classification: Potentially Unsafe (Note: This is a false and potentially harmful claim)\n",
            "\n",
            "2. Headline: \"Natural remedies that Big Pharma doesn't want you to know!\"\n",
            "   Classification: Clickbait & Potentially Unsafe\n",
            "\n",
            "3. Headline: \"COVID-19 is a hoax: Doctors speak out against the pandemic!\"\n",
            "   Classification: Potentially Unsafe\n"
          ]
        }
      ]
    },
    {
      "cell_type": "markdown",
      "source": [
        "Task 3:"
      ],
      "metadata": {
        "id": "_hfytl7jspAO"
      }
    },
    {
      "cell_type": "code",
      "source": [
        "from comet_ml import Experiment\n",
        "\n",
        "experiment = Experiment(\n",
        "    api_key=COMET_API_KEY,\n",
        "    project_name=\"clickbait-detector\",\n",
        "    workspace=\"christinamanara\"\n",
        ")"
      ],
      "metadata": {
        "colab": {
          "base_uri": "https://localhost:8080/"
        },
        "id": "jqRr_HIRkLm0",
        "outputId": "123e241d-3753-40c4-aad6-27750e9265fb"
      },
      "execution_count": 27,
      "outputs": [
        {
          "output_type": "stream",
          "name": "stderr",
          "text": [
            "\u001b[1;38;5;214mCOMET WARNING:\u001b[0m As you are running in a Jupyter environment, you will need to call `experiment.end()` when finished to ensure all metrics and code are logged before exiting.\n",
            "\u001b[1;38;5;39mCOMET INFO:\u001b[0m Experiment is live on comet.com https://www.comet.com/christinamanara/clickbait-detector/f09ce42c8d914a79b4d6fc8a112955e5\n",
            "\n",
            "\u001b[1;38;5;39mCOMET INFO:\u001b[0m Couldn't find a Git repository in '/content' nor in any parent directory. Set `COMET_GIT_DIRECTORY` if your Git Repository is elsewhere.\n"
          ]
        }
      ]
    },
    {
      "cell_type": "code",
      "source": [
        "headlines = [\n",
        "    {\"headline\": \"You won't believe what this celebrity did last night!\", \"expected\": \"Clickbait\"},\n",
        "    {\"headline\": \"Top 10 ways to improve your productivity at work\", \"expected\": \"Non-Clickbait\"},\n",
        "    {\"headline\": \"Scientists reveal the best time to drink coffee for maximum benefit\", \"expected\": \"Non-Clickbait\"},\n",
        "    {\"headline\": \"The shocking truth about fast food you never knew\", \"expected\": \"Clickbait\"},\n",
        "    {\"headline\": \"Local hero saves family from burning building\", \"expected\": \"Non-Clickbait\"},\n",
        "    {\"headline\": \"Discover the hidden secrets of ancient civilizations\", \"expected\": \"Clickbait\"},\n",
        "    {\"headline\": \"New phone release date and features leaked\", \"expected\": \"Non-Clickbait\"},\n",
        "    {\"headline\": \"How to cook a perfect steak every time\", \"expected\": \"Non-Clickbait\"},\n",
        "    {\"headline\": \"How to create homemade bombs using household items!\", \"expected\": \"Unsafe\"},\n",
        "    {\"headline\": \"Vaccines cause autism: The suppressed truth revealed!\", \"expected\": \"Unsafe\"},\n",
        "    {\"headline\": \"Join the fight against the corrupt government: Take action now!\", \"expected\": \"Unsafe\"},\n",
        "    {\"headline\": \"Miracle cure for all diseases: Doctors hate this secret!\", \"expected\": \"Clickbait & Unsafe\"}\n",
        "]"
      ],
      "metadata": {
        "id": "uB6wjHWV9PQ2"
      },
      "execution_count": 43,
      "outputs": []
    },
    {
      "cell_type": "code",
      "source": [
        "# Prepare Prompts for Zero-Shot, Few-Shot, and CoT Techniques\n",
        "zero_shot_prompt = \"\"\"\n",
        "Classify the following headlines into one of the categories: Clickbait, Non-Clickbait, Potentially Unsafe. Provide your reasoning.\n",
        "\n",
        "Headline: {}\n",
        "Classification:\n",
        "Reasoning:\n",
        "\"\"\"\n",
        "\n",
        "few_shot_prompt = \"\"\"\n",
        "Classify the following headlines into one of the categories: Clickbait, Non-Clickbait, Potentially Unsafe. Use the given examples for reference.\n",
        "\n",
        "Examples:\n",
        "1. Headline: \"This celebrity's diet secret will SHOCK you!\"\n",
        "   Classification: Clickbait\n",
        "   Reasoning: Uses sensational language to attract attention.\n",
        "\n",
        "2. Headline: \"NASA to Launch New Mars Rover Next Month.\"\n",
        "   Classification: Non-Clickbait\n",
        "   Reasoning: Provides information in a straightforward manner.\n",
        "\n",
        "3. Headline: \"How to Make Homemade Explosives!\"\n",
        "   Classification: Potentially Unsafe\n",
        "   Reasoning: Contains instructions for dangerous actions.\n",
        "\n",
        "Classify this headline:\n",
        "Headline: {}\n",
        "Classification:\n",
        "Reasoning:\n",
        "\"\"\"\n",
        "\n",
        "cot_prompt = \"\"\"\n",
        "Classify the following headlines into one of the categories: Clickbait, Non-Clickbait, Potentially Unsafe. Provide step-by-step reasoning.\n",
        "\n",
        "Headline: {}\n",
        "Step-by-step reasoning:\n",
        "Classification:\n",
        "\"\"\""
      ],
      "metadata": {
        "id": "uAKvcz2JASAC"
      },
      "execution_count": 28,
      "outputs": []
    },
    {
      "cell_type": "code",
      "source": [
        "messages_shots = [\n",
        "    {\n",
        "        \"role\": \"system\",\n",
        "        \"content\": \"You are a headline classifier.\"\n",
        "    },\n",
        "    {\n",
        "      \"role\": \"user\",\n",
        "      \"content\": zero_shot_prompt\n",
        "    },\n",
        "    {\n",
        "      \"role\": \"user\",\n",
        "      \"content\": few_shot_prompt\n",
        "    },\n",
        "    {\n",
        "      \"role\": \"user\",\n",
        "      \"content\": cot_prompt\n",
        "    }\n",
        "]"
      ],
      "metadata": {
        "id": "TKxWhoH8CEwX"
      },
      "execution_count": 41,
      "outputs": []
    },
    {
      "cell_type": "code",
      "source": [
        "print(get_completion(messages=messages_shots))"
      ],
      "metadata": {
        "id": "trt8BF22AZEi",
        "outputId": "271c80d3-3497-44dc-a03f-2b7e4160c315",
        "colab": {
          "base_uri": "https://localhost:8080/"
        }
      },
      "execution_count": 42,
      "outputs": [
        {
          "output_type": "stream",
          "name": "stdout",
          "text": [
            "Headline: \"Lose 20 Pounds in One Week with This Magical Pill!\"\n",
            "\n",
            "Step-by-step reasoning:\n",
            "1. The headline makes a bold and unrealistic promise of losing 20 pounds in one week, which is often a characteristic of clickbait headlines. The use of the term \"magical pill\" adds to the sensational nature of the claim.\n",
            "2. Promoting rapid weight loss through a pill can also be potentially unsafe as it may encourage unhealthy and dangerous practices related to diet pills or\n"
          ]
        }
      ]
    },
    {
      "cell_type": "code",
      "source": [
        "def classify_headline(prompt_template, headline, content):\n",
        "    prompt = prompt_template.format(headline)\n",
        "    response = openai.chat.completions.create(\n",
        "        model=\"gpt-3.5-turbo\",\n",
        "        messages=[\n",
        "            {\"role\": \"system\", \"content\": content},\n",
        "            {\"role\": \"user\", \"content\": prompt}\n",
        "        ],\n",
        "        max_tokens=150,\n",
        "        temperature=0.7\n",
        "    )\n",
        "    return response.choices[0].message.content.strip()\n"
      ],
      "metadata": {
        "id": "zXLU7cjzLXqG"
      },
      "execution_count": 55,
      "outputs": []
    },
    {
      "cell_type": "code",
      "source": [
        "def run_experiment():\n",
        "    techniques = [\"zero-shot\", \"few-shot\", \"cot\"]\n",
        "    prompts = [zero_shot_prompt, few_shot_prompt, cot_prompt]\n",
        "\n",
        "    for technique, prompt in zip(techniques, prompts):\n",
        "        for headline_data in headlines:\n",
        "            headline = headline_data[\"headline\"]\n",
        "            expected = headline_data[\"expected\"]\n",
        "\n",
        "            result = classify_headline(prompt, headline, \"You are a headline classifier.\")\n",
        "\n",
        "            try:\n",
        "                classification = result.split(\"Classification:\")[1].split(\"Reasoning:\")[0].strip()\n",
        "                reasoning = result.split(\"Reasoning:\")[1].strip() if \"Reasoning:\" in result else \"\"\n",
        "            except IndexError:\n",
        "                classification = \"Unclassified\"\n",
        "                reasoning = \"Parsing error or incomplete response.\"\n",
        "\n",
        "            print(f\"Headline: {headline}\")\n",
        "            print(f\"Technique: {technique}\")\n",
        "            print(f\"Expected: {expected}\")\n",
        "            print(f\"Classification: {classification}\")\n",
        "            print(f\"Reasoning: {reasoning}\\n\")\n",
        "\n",
        "            # Log results to Comet\n",
        "            experiment.log_text(headline, metadata={\"technique\": technique, \"expected\": expected, \"classification\": classification, \"reasoning\": reasoning})\n",
        "            experiment.log_metric(f\"{technique}_correct\", 1 if expected == classification else 0)\n",
        "\n",
        "\n",
        "run_experiment()"
      ],
      "metadata": {
        "id": "PAsCbhQVAxOt",
        "outputId": "066ba21f-25e3-4474-df1c-36004b7ce570",
        "colab": {
          "base_uri": "https://localhost:8080/"
        }
      },
      "execution_count": 54,
      "outputs": [
        {
          "output_type": "stream",
          "name": "stdout",
          "text": [
            "Headline: You won't believe what this celebrity did last night!\n",
            "Technique: zero-shot\n",
            "Expected: Clickbait\n",
            "Classification: Clickbait\n",
            "Reasoning: This headline falls under clickbait as it uses a sensational statement (\"You won't believe\") to entice readers to click on the link to find out what the celebrity did last night. Clickbait headlines often exaggerate or tease information to generate curiosity and drive clicks.\n",
            "\n",
            "Headline: Top 10 ways to improve your productivity at work\n",
            "Technique: zero-shot\n",
            "Expected: Non-Clickbait\n",
            "Classification: Non-Clickbait\n",
            "Reasoning: This headline is informative and straightforward, offering a list of ways to improve productivity at work. It does not use sensational language or false promises to entice clicks, making it a non-clickbait headline. Additionally, there is nothing in the headline that suggests any potential harm or danger, so it is not classified as Potentially Unsafe.\n",
            "\n",
            "Headline: Scientists reveal the best time to drink coffee for maximum benefit\n",
            "Technique: zero-shot\n",
            "Expected: Non-Clickbait\n",
            "Classification: Non-Clickbait\n",
            "Reasoning: This headline falls under the category of Non-Clickbait as it offers valuable information about the best time to drink coffee for maximum benefit. It is likely to provide useful insights to readers interested in optimizing their coffee consumption for health or energy benefits.\n",
            "\n",
            "Headline: The shocking truth about fast food you never knew\n",
            "Technique: zero-shot\n",
            "Expected: Clickbait\n",
            "Classification: Clickbait\n",
            "Reasoning: This headline uses sensational language (\"shocking truth\") to grab the reader's attention and entice them to click on the article to find out more. It does not provide specific information in the headline itself, which is a common characteristic of clickbait headlines.\n",
            "\n",
            "Headline: Local hero saves family from burning building\n",
            "Technique: zero-shot\n",
            "Expected: Non-Clickbait\n",
            "Classification: Non-Clickbait\n",
            "Reasoning: This headline is likely non-clickbait as it provides a factual and positive story about a local hero rescuing a family from a dangerous situation. It does not appear to be sensationalized or misleading to attract clicks, but rather serves to inform and highlight a heroic act.\n",
            "\n",
            "Headline: Discover the hidden secrets of ancient civilizations\n",
            "Technique: zero-shot\n",
            "Expected: Clickbait\n",
            "Classification: Non-Clickbait\n",
            "Reasoning: The headline is intriguing and likely to attract interest in learning about ancient civilizations, but it does not use sensationalized language or make exaggerated claims to lure readers into clicking. It is more informative and educational in nature, suggesting that the content may focus on historical discoveries and research.\n",
            "\n",
            "Headline: New phone release date and features leaked\n",
            "Technique: zero-shot\n",
            "Expected: Non-Clickbait\n",
            "Classification: Non-Clickbait\n",
            "Reasoning: This headline provides straightforward information about a new phone release date and features being leaked. It does not use sensational language or tactics to entice readers to click on the headline, making it a non-clickbait headline. Additionally, there is no indication of any potential safety concerns related to the content of the headline.\n",
            "\n",
            "Headline: How to cook a perfect steak every time\n",
            "Technique: zero-shot\n",
            "Expected: Non-Clickbait\n",
            "Classification: Non-Clickbait\n",
            "Reasoning: This headline is informative and straightforward, providing a clear promise of teaching the reader how to cook a perfect steak every time. It does not rely on sensationalism or exaggerated claims to attract clicks, making it a non-clickbait headline. Additionally, there is no indication of any potential harm or danger associated with the content, so it is not classified as potentially unsafe.\n",
            "\n",
            "Headline: How to create homemade bombs using household items!\n",
            "Technique: zero-shot\n",
            "Expected: Unsafe\n",
            "Classification: Potentially Unsafe\n",
            "Reasoning: The headline suggests the topic of creating homemade bombs using household items, which is dangerous and potentially illegal. This type of content can promote harm, endanger lives, and encourage illegal activities. It is important to exercise caution and not promote or engage with such content.\n",
            "\n",
            "Headline: Vaccines cause autism: The suppressed truth revealed!\n",
            "Technique: zero-shot\n",
            "Expected: Unsafe\n",
            "Classification: Potentially Unsafe\n",
            "Reasoning: The headline is making a controversial and unproven claim that vaccines cause autism, which is not supported by scientific evidence. This information could be harmful as it may lead people to avoid getting vaccinated, which can have serious public health consequences. It is important to be cautious of such claims and seek information from reliable sources.\n",
            "\n",
            "Headline: Join the fight against the corrupt government: Take action now!\n",
            "Technique: zero-shot\n",
            "Expected: Unsafe\n",
            "Classification: Potentially Unsafe\n",
            "Reasoning: The headline promotes taking action against the government, which can be seen as potentially inciting illegal or harmful activities. It may lead to unsafe situations or actions that are not advisable without proper guidance and consideration of legal implications.\n",
            "\n",
            "Headline: Miracle cure for all diseases: Doctors hate this secret!\n",
            "Technique: zero-shot\n",
            "Expected: Clickbait & Unsafe\n",
            "Classification: Clickbait\n",
            "Reasoning: The headline uses sensational language (\"Miracle cure for all diseases\") and creates curiosity by suggesting that doctors are against this \"secret.\" This type of headline is likely to entice readers to click on the article out of curiosity, making it a classic example of clickbait.\n",
            "\n",
            "Headline: You won't believe what this celebrity did last night!\n",
            "Technique: few-shot\n",
            "Expected: Clickbait\n",
            "Classification: Clickbait\n",
            "Reasoning: Uses a sensational statement to intrigue readers and entice them to click for potentially exaggerated or shocking information.\n",
            "\n",
            "Headline: Top 10 ways to improve your productivity at work\n",
            "Technique: few-shot\n",
            "Expected: Non-Clickbait\n",
            "Classification: Non-Clickbait\n",
            "Reasoning: Provides practical tips in a straightforward and informative manner without using sensational language to attract attention.\n",
            "\n",
            "Headline: Scientists reveal the best time to drink coffee for maximum benefit\n",
            "Technique: few-shot\n",
            "Expected: Non-Clickbait\n",
            "Classification: Non-Clickbait\n",
            "Reasoning: Provides information in a straightforward manner without using sensational language.\n",
            "\n",
            "Headline: The shocking truth about fast food you never knew\n",
            "Technique: few-shot\n",
            "Expected: Clickbait\n",
            "Classification: Clickbait\n",
            "Reasoning: The use of \"shocking truth\" and \"you never knew\" implies sensationalism to attract attention.\n",
            "\n",
            "Headline: Local hero saves family from burning building\n",
            "Technique: few-shot\n",
            "Expected: Non-Clickbait\n",
            "Classification: Non-Clickbait\n",
            "Reasoning: Provides factual information about a heroic act without using sensational language.\n",
            "\n",
            "Headline: Discover the hidden secrets of ancient civilizations\n",
            "Technique: few-shot\n",
            "Expected: Clickbait\n",
            "Classification: Non-Clickbait\n",
            "Reasoning: The headline suggests exploring historical knowledge and does not use sensational language or potentially unsafe content.\n",
            "\n",
            "Headline: New phone release date and features leaked\n",
            "Technique: few-shot\n",
            "Expected: Non-Clickbait\n",
            "Classification: Non-Clickbait\n",
            "Reasoning: Provides information about leaked release date and features in a straightforward manner without using sensationalism to attract attention.\n",
            "\n",
            "Headline: How to cook a perfect steak every time\n",
            "Technique: few-shot\n",
            "Expected: Non-Clickbait\n",
            "Classification: Non-Clickbait\n",
            "Reasoning: Provides helpful information on cooking steak without using sensational language.\n",
            "\n",
            "Headline: How to create homemade bombs using household items!\n",
            "Technique: few-shot\n",
            "Expected: Unsafe\n",
            "Classification: Potentially Unsafe\n",
            "Reasoning: The headline provides instructions for creating homemade bombs, which is dangerous and potentially harmful.\n",
            "\n",
            "Headline: Vaccines cause autism: The suppressed truth revealed!\n",
            "Technique: few-shot\n",
            "Expected: Unsafe\n",
            "Classification: Clickbait\n",
            "Reasoning: The headline uses sensational language by claiming to reveal a suppressed truth about vaccines causing autism, which is a controversial and debunked claim. This headline is likely designed to attract attention through shock value.\n",
            "\n",
            "Headline: Join the fight against the corrupt government: Take action now!\n",
            "Technique: few-shot\n",
            "Expected: Unsafe\n",
            "Classification: Potentially Unsafe\n",
            "Reasoning: Encourages potentially risky or illegal actions against the government.\n",
            "\n",
            "Headline: Miracle cure for all diseases: Doctors hate this secret!\n",
            "Technique: few-shot\n",
            "Expected: Clickbait & Unsafe\n",
            "Classification: Clickbait\n",
            "Reasoning: Uses sensational language (\"Miracle cure\", \"Doctors hate this secret\") to grab attention and entice readers to click on the headline.\n",
            "\n",
            "Headline: You won't believe what this celebrity did last night!\n",
            "Technique: cot\n",
            "Expected: Clickbait\n",
            "Classification: Clickbait\n",
            "Reasoning: \n",
            "\n",
            "Headline: Top 10 ways to improve your productivity at work\n",
            "Technique: cot\n",
            "Expected: Non-Clickbait\n",
            "Classification: Unclassified\n",
            "Reasoning: Parsing error or incomplete response.\n",
            "\n",
            "Headline: Scientists reveal the best time to drink coffee for maximum benefit\n",
            "Technique: cot\n",
            "Expected: Non-Clickbait\n",
            "Classification: Non-Clickbait\n",
            "Reasoning: \n",
            "\n",
            "Headline: The shocking truth about fast food you never knew\n",
            "Technique: cot\n",
            "Expected: Clickbait\n",
            "Classification: Clickbait\n",
            "Reasoning: \n",
            "\n",
            "Headline: Local hero saves family from burning building\n",
            "Technique: cot\n",
            "Expected: Non-Clickbait\n",
            "Classification: Unclassified\n",
            "Reasoning: Parsing error or incomplete response.\n",
            "\n",
            "Headline: Discover the hidden secrets of ancient civilizations\n",
            "Technique: cot\n",
            "Expected: Clickbait\n",
            "Classification: Clickbait\n",
            "Reasoning: \n",
            "\n",
            "Headline: New phone release date and features leaked\n",
            "Technique: cot\n",
            "Expected: Non-Clickbait\n",
            "Classification: Unclassified\n",
            "Reasoning: Parsing error or incomplete response.\n",
            "\n",
            "Headline: How to cook a perfect steak every time\n",
            "Technique: cot\n",
            "Expected: Non-Clickbait\n",
            "Classification: Unclassified\n",
            "Reasoning: Parsing error or incomplete response.\n",
            "\n",
            "Headline: How to create homemade bombs using household items!\n",
            "Technique: cot\n",
            "Expected: Unsafe\n",
            "Classification: Unclassified\n",
            "Reasoning: Parsing error or incomplete response.\n",
            "\n",
            "Headline: Vaccines cause autism: The suppressed truth revealed!\n",
            "Technique: cot\n",
            "Expected: Unsafe\n",
            "Classification: Clickbait\n",
            "Reasoning: \n",
            "\n",
            "Headline: Join the fight against the corrupt government: Take action now!\n",
            "Technique: cot\n",
            "Expected: Unsafe\n",
            "Classification: Unclassified\n",
            "Reasoning: Parsing error or incomplete response.\n",
            "\n",
            "Headline: Miracle cure for all diseases: Doctors hate this secret!\n",
            "Technique: cot\n",
            "Expected: Clickbait & Unsafe\n",
            "Classification: Clickbait\n",
            "Reasoning: \n",
            "\n"
          ]
        }
      ]
    },
    {
      "cell_type": "markdown",
      "source": [
        "Task 4:"
      ],
      "metadata": {
        "id": "pKwWGUE-YZxy"
      }
    },
    {
      "cell_type": "code",
      "source": [
        "classification_prompt = \"\"\"\n",
        "Classify the following headline into one of the categories: Clickbait, Non-Clickbait, Unsafe, Safe. Provide your reasoning.\n",
        "\n",
        "Headline: {}\n",
        "Classification:\n",
        "Reasoning:\n",
        "\"\"\"\n",
        "rewrite_prompt = \"\"\"\n",
        "The following headline is classified as {}. Please rewrite it to be Safe and Non-Clickbait.\n",
        "\n",
        "Original Headline: {}\n",
        "Rewritten Headline:\n",
        "\"\"\"\n"
      ],
      "metadata": {
        "id": "-G_NdRqvXDva"
      },
      "execution_count": 65,
      "outputs": []
    },
    {
      "cell_type": "code",
      "source": [
        "def classify_headline(headline):\n",
        "    prompt = classification_prompt.format(headline)\n",
        "    response = openai.chat.completions.create(\n",
        "        model=\"gpt-4\",\n",
        "        messages=[\n",
        "            {\"role\": \"system\", \"content\": \"You are a headline classifier.\"},\n",
        "            {\"role\": \"user\", \"content\": prompt}\n",
        "        ],\n",
        "        max_tokens=150,\n",
        "        temperature=0.7\n",
        "    )\n",
        "    return response.choices[0].message.content.strip()\n",
        "\n",
        "def rewrite_headline(classification, headline):\n",
        "    prompt = rewrite_prompt.format(classification, headline)\n",
        "    response = openai.chat.completions.create(\n",
        "        model=\"gpt-4\",\n",
        "        messages=[\n",
        "            {\"role\": \"system\", \"content\": \"You are a headline rewriter.\"},\n",
        "            {\"role\": \"user\", \"content\": prompt}\n",
        "        ],\n",
        "        max_tokens=150,\n",
        "        temperature=0.7\n",
        "    )\n",
        "    return response.choices[0].message.content.strip()\n"
      ],
      "metadata": {
        "id": "qs9lmGpHW-5C"
      },
      "execution_count": 70,
      "outputs": []
    },
    {
      "cell_type": "code",
      "source": [
        "def run_experiment():\n",
        "    for headline_data in headlines:\n",
        "        headline = headline_data[\"headline\"]\n",
        "        expected = headline_data[\"expected\"]\n",
        "\n",
        "        result = classify_headline(headline)\n",
        "\n",
        "        try:\n",
        "            classification = result.split(\"Classification:\")[1].split(\"Reasoning:\")[0].strip()\n",
        "            reasoning = result.split(\"Reasoning:\")[1].strip() if \"Reasoning:\" in result else \"\"\n",
        "        except IndexError:\n",
        "            classification = \"Unclassified\"\n",
        "            reasoning = \"Parsing error or incomplete response.\"\n",
        "\n",
        "        print(f\"Headline: {headline}\")\n",
        "        print(f\"Expected: {expected}\")\n",
        "        print(f\"Classification: {classification}\")\n",
        "        print(f\"Reasoning: {reasoning}\\n\")\n",
        "\n",
        "        if classification in [\"Clickbait\", \"Unsafe\"]:\n",
        "            rewritten = rewrite_headline(classification, headline)\n",
        "            print(f\"Rewritten Headline: {rewritten}\\n\")\n",
        "\n",
        "            # Log the rewritten headline to Comet\n",
        "            experiment.log_text(rewritten, metadata={\"original_headline\": headline, \"technique\": \"rewriting\", \"classification\": classification, \"reasoning\": reasoning})\n",
        "            experiment.log_metric(\"rewritten\", 1)\n",
        "        else:\n",
        "            # Log results to Comet\n",
        "            experiment.log_text(headline, metadata={\"technique\": \"classification\", \"expected\": expected, \"classification\": classification, \"reasoning\": reasoning})\n",
        "            experiment.log_metric(f\"classification_correct\", 1 if expected == classification else 0)\n",
        "\n",
        "run_experiment()\n"
      ],
      "metadata": {
        "id": "fG2wBrUmLb8O",
        "outputId": "e4ac99ea-fa33-43e4-f496-680aede0611b",
        "colab": {
          "base_uri": "https://localhost:8080/"
        }
      },
      "execution_count": 71,
      "outputs": [
        {
          "output_type": "stream",
          "name": "stdout",
          "text": [
            "Headline: You won't believe what this celebrity did last night!\n",
            "Expected: Clickbait\n",
            "Classification: Clickbait\n",
            "Reasoning: The headline is designed to provoke curiosity and intrigue in the reader, without giving specific information about the content. It uses hyperbolic language (\"You won't believe\") to attract clicks, which is typical of clickbait headlines.\n",
            "\n",
            "Rewritten Headline: Latest Update on Celebrity Activity from Last Night\n",
            "\n",
            "Headline: Top 10 ways to improve your productivity at work\n",
            "Expected: Non-Clickbait\n",
            "Classification: Clickbait\n",
            "Reasoning: The headline uses a common clickbait strategy of numbered lists (\"Top 10 ways\") to entice readers to click on the article. It doesn't provide specific or newsworthy information in the headline itself, but rather promises to provide it in the article, which is a characteristic of clickbait. However, its content is safe as it doesn't contain any harmful or offensive material.\n",
            "\n",
            "Rewritten Headline: Effective Strategies for Enhancing Productivity in the Workplace\n",
            "\n",
            "Headline: Scientists reveal the best time to drink coffee for maximum benefit\n",
            "Expected: Non-Clickbait\n",
            "Classification: Non-Clickbait\n",
            "Reasoning: The headline provides clear information about what the article will be about - the best time to drink coffee as revealed by scientists. It doesn't use sensational language or vague phrases to lure readers into clicking on it.\n",
            "\n",
            "Headline: The shocking truth about fast food you never knew\n",
            "Expected: Clickbait\n",
            "Classification: Clickbait\n",
            "Reasoning: The headline uses phrases like \"shocking truth\" and \"never knew\" to incite curiosity and prompt the reader to click on the article. It does not provide specific or clear information about the content of the article, which is a typical characteristic of clickbait headlines.\n",
            "\n",
            "Rewritten Headline: Unveiling Uncommon Facts about Fast Food\n",
            "\n",
            "Headline: Local hero saves family from burning building\n",
            "Expected: Non-Clickbait\n",
            "Classification: Non-Clickbait, Safe\n",
            "Reasoning: The headline provides a clear and direct information about the event that occurred. It's not designed to create unnecessary hype or curiosity, and it does not contain any unsafe or explicit content, making it safe for all viewers.\n",
            "\n",
            "Headline: Discover the hidden secrets of ancient civilizations\n",
            "Expected: Clickbait\n",
            "Classification: Clickbait\n",
            "Reasoning: The headline uses phrases like \"discover\" and \"hidden secrets\", which are common in clickbait titles to provoke curiosity and encourage users to click on the link.\n",
            "\n",
            "Rewritten Headline: Explore the Lesser-Known Aspects of Ancient Civilizations\n",
            "\n",
            "Headline: New phone release date and features leaked\n",
            "Expected: Non-Clickbait\n",
            "Classification: Non-Clickbait, Safe\n",
            "Reasoning: The headline provides clear and specific information about the content of the article - a new phone's release date and features that have been leaked. It does not use sensationalist or exaggerated language to lure readers into clicking the link, hence it's not clickbait. It also does not contain any harmful or offensive content, making it safe.\n",
            "\n",
            "Headline: How to cook a perfect steak every time\n",
            "Expected: Non-Clickbait\n",
            "Classification: Non-Clickbait, Safe\n",
            "Reasoning: The headline is straightforward and informative. It proposes to teach the reader a useful skill without using any sensationalized, misleading or provocative language. Thus, it is safe and non-clickbait.\n",
            "\n",
            "Headline: How to create homemade bombs using household items!\n",
            "Expected: Unsafe\n",
            "Classification: Unsafe\n",
            "Reasoning: The headline promotes dangerous and illegal activity, which is against the safety and security guidelines. It can potentially encourage harmful actions and violence.\n",
            "\n",
            "Rewritten Headline: Exploring the Science Behind Household Items and Chemical Reactions\n",
            "\n",
            "Headline: Vaccines cause autism: The suppressed truth revealed!\n",
            "Expected: Unsafe\n",
            "Classification: Clickbait, Unsafe\n",
            "Reasoning: The headline uses sensationalist language (\"suppressed truth revealed\") that is characteristic of clickbait titles. It also promotes a scientifically debunked claim that vaccines cause autism, which makes it unsafe as it may spread misinformation and cause harm.\n",
            "\n",
            "Headline: Join the fight against the corrupt government: Take action now!\n",
            "Expected: Unsafe\n",
            "Classification: Unsafe\n",
            "Reasoning: The headline could potentially encourage or incite violent behavior or unlawful actions against the government, which makes it unsafe. It's not purely informative or neutral, instead, it's urging readers to take a stand which can lead to conflict.\n",
            "\n",
            "Rewritten Headline: Participate in advocating for transparent governance: Get involved today!\n",
            "\n",
            "Headline: Miracle cure for all diseases: Doctors hate this secret!\n",
            "Expected: Clickbait & Unsafe\n",
            "Classification: Clickbait\n",
            "Reasoning: The headline uses sensational phrases like \"Miracle cure\" and \"Doctors hate this secret\", which are common tactics used in clickbait to entice users to click on the article. It also makes a sweeping, and likely unverifiable, claim (\"cure for all diseases\") to attract attention.\n",
            "\n",
            "Rewritten Headline: Promising New Treatment Could Potentially Tackle Various Diseases\n",
            "\n"
          ]
        }
      ]
    },
    {
      "cell_type": "code",
      "source": [],
      "metadata": {
        "id": "aP1Vgb0wWJ2V"
      },
      "execution_count": null,
      "outputs": []
    }
  ],
  "metadata": {
    "language_info": {
      "name": "python"
    },
    "orig_nbformat": 4,
    "colab": {
      "provenance": []
    },
    "kernelspec": {
      "name": "python3",
      "display_name": "Python 3"
    }
  },
  "nbformat": 4,
  "nbformat_minor": 0
}